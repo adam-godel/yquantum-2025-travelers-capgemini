{
 "cells": [
  {
   "cell_type": "code",
   "execution_count": 31,
   "id": "1e740de4",
   "metadata": {},
   "outputs": [],
   "source": [
    "from bloqade.analog import start, get_capabilities, piecewise_linear\n",
    "import math\n",
    "import networkx as nx\n",
    "import numpy as np\n",
    "from scipy.spatial.distance import pdist, squareform\n",
    "import pickle\n",
    "import matplotlib.pyplot as plt"
   ]
  },
  {
   "cell_type": "code",
   "execution_count": 32,
   "id": "3241734b",
   "metadata": {},
   "outputs": [],
   "source": [
    "def euclidean(p1, p2):\n",
    "    return math.sqrt((p1[0] - p2[0])**2 + (p1[1] - p2[1])**2)\n",
    "\n",
    "def generate_positions(graph):\n",
    "    positions = {}\n",
    "    placed_nodes = set()\n",
    "    first_node = list(graph.keys())[0]\n",
    "    positions[first_node] = (0, 0)\n",
    "    placed_nodes.add(first_node)\n",
    "    def find_position(node):\n",
    "        candidate_position = None\n",
    "        for angle in range(360):\n",
    "            x = 4.5*math.cos(math.radians(angle))\n",
    "            y = 4.5*math.sin(math.radians(angle))\n",
    "            candidate_position = (x, y)\n",
    "            valid_position = True\n",
    "            for neighbor in placed_nodes:\n",
    "                if neighbor in graph[node]:\n",
    "                    dist = euclidean(candidate_position, positions[neighbor])\n",
    "                    if dist > 4.5 or candidate_position in positions.values():\n",
    "                        valid_position = False\n",
    "                        break\n",
    "                else:\n",
    "                    dist = euclidean(candidate_position, positions[neighbor])\n",
    "                    if dist <= 4.5 or candidate_position in positions.values():\n",
    "                        valid_position = False\n",
    "                        break\n",
    "            if valid_position:\n",
    "                return candidate_position\n",
    "        return candidate_position\n",
    "    for node in graph:\n",
    "        if node not in placed_nodes:\n",
    "            new_position = find_position(node)\n",
    "            positions[node] = new_position\n",
    "            placed_nodes.add(node)\n",
    "    return [(float(i[0]), float(i[1])) for i in positions.values()]"
   ]
  },
  {
   "cell_type": "code",
   "execution_count": 40,
   "id": "e10d0570",
   "metadata": {},
   "outputs": [],
   "source": [
    "graph = {\n",
    "    'A': {'B': 1, 'C': 1},\n",
    "    'B': {'A': 1, 'D': 1, 'E': 1},\n",
    "    'C': {'A': 1, 'F': 1},\n",
    "    'D': {'B': 1, 'G': 1},\n",
    "    'E': {'B': 1, 'F': 1, 'H': 1},\n",
    "    'F': {'C': 1, 'E': 1},\n",
    "    'G': {'D': 1, 'H': 1},\n",
    "    'H': {'E': 1, 'G': 1}\n",
    "}\n",
    "positions = generate_positions(graph)\n",
    "with open(\"graph.pickle\", \"wb\") as file:\n",
    "    pickle.dump(positions, file)"
   ]
  }
 ],
 "metadata": {
  "kernelspec": {
   "display_name": "base",
   "language": "python",
   "name": "python3"
  },
  "language_info": {
   "codemirror_mode": {
    "name": "ipython",
    "version": 3
   },
   "file_extension": ".py",
   "mimetype": "text/x-python",
   "name": "python",
   "nbconvert_exporter": "python",
   "pygments_lexer": "ipython3",
   "version": "3.12.9"
  }
 },
 "nbformat": 4,
 "nbformat_minor": 5
}
