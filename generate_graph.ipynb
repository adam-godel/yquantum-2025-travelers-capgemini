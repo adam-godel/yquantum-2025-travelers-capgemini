{
 "cells": [
  {
   "cell_type": "markdown",
   "id": "9b22e0f4",
   "metadata": {},
   "source": [
    "## Generating a Graph Based on Los Angeles County Fire Hazard Severity Zones\n",
    "In this notebook, we explain our approach of converting [Los Angeles County Fire Hazard Severity Zones](https://www.youtube.com/watch?v=WEBx_9Or88c), which classifies 20–200 acre zones located within the county as \"moderate,\" \"high,\" or \"very high\" risk, into an undirected graph that we can perform the quantum graph coloring algorithm on to minimize the risk to Travelers' portfolios. This real data shows how this algorithm, which has a quantum advantage, can be used in a real-world use case to minimize the risk to Travelers.\n",
    "\n",
    "One of the Travelers mottos is \"Remarkable Things Happen When People Care,\" and we focused on this company motto as we worked on our project. Investing in the professional development of quantum algorithms such as this one can reduce risk in Travelers' portfolios and allow the company to more strongly help its customers in the case of a catastrophe.\n",
    "\n",
    "This notebook explains how we imported and processed our data; for a technical description of our quantum algorithm, see [mis.ipynb](mis.ipynb)."
   ]
  },
  {
   "cell_type": "code",
   "execution_count": 2,
   "id": "1e740de4",
   "metadata": {},
   "outputs": [],
   "source": [
    "import math\n",
    "import networkx as nx\n",
    "import pickle\n",
    "import matplotlib.pyplot as plt\n",
    "import json\n",
    "import gcol\n",
    "import random\n",
    "import os"
   ]
  },
  {
   "cell_type": "markdown",
   "id": "7aaed194",
   "metadata": {},
   "source": [
    "This block of code unpacks the [JSON file](https://hub.arcgis.com/datasets/lacounty::fire-hazard-severity-zones/api) and converts polygon vertices into more usable average coordinates. `idx` contains the index/id of the zone and `feature` contains all of its data. The attributes section contains the hazard level, although if configured differently the JSON file could include more attributes. The geometry feature contains the polygon verticies. The loop collects all of the different points in geometry (which is stored under the \"rings\" subcategory in the json file), goes through them and finds the average of all points for that zone. The `centroids` dictionary then stores the hazard level and the coordinates as a tuple. \n",
    "\n",
    "Finally, we take a random sample of a certain amount of the fire hazard zones, which can be considered to be the subset of zones with Travelers customers in them. In reality, the fire hazard dataset could be linked to some internal database from Travelers that lists certain zones their customers live in."
   ]
  },
  {
   "cell_type": "code",
   "execution_count": 9,
   "id": "829fa440",
   "metadata": {},
   "outputs": [],
   "source": [
    "with open(\"LACountyFireHazardLevel.json\") as file:\n",
    "    full_data = json.load(file)\n",
    "\n",
    "centroids = {}\n",
    "\n",
    "for idx, feature in enumerate(full_data['features']):\n",
    "    attributes = feature.get('attributes', {})\n",
    "    geometry = feature.get('geometry', {})\n",
    "\n",
    "    if 'rings' in geometry and geometry['rings']:\n",
    "        points = geometry['rings'][0]\n",
    "        num_points = len(points)\n",
    "\n",
    "        avg_lon = sum(p[0] for p in points) / num_points\n",
    "        avg_lat = sum(p[1] for p in points) / num_points\n",
    "        hazard_level = attributes.get('HAZ_CLASS', 'Unknown')\n",
    "\n",
    "        centroids[idx] = (hazard_level, avg_lat, avg_lon)\n",
    "\n",
    "random.seed(3)\n",
    "indices = random.sample(sorted(centroids.keys()), 50)\n",
    "sample = {}\n",
    "for idx in indices:\n",
    "    sample[len(sample)+1] = centroids[idx]"
   ]
  },
  {
   "cell_type": "markdown",
   "id": "c79e156a",
   "metadata": {},
   "source": [
    "To get the distance between two zones with the same hazard level categorization, our model uses a simple Euclidean distance calculation using their latitude and longitude coordinates. In reality, the number of Travelers customers in each zone could also potentially be linked to how the distance between zones is calculated. We then take a value $\\epsilon$, which we have arbitrarily set to $0.2$ for the sake of example, which represents the maximum distance the graph coloring property should be enforced on. In other words, any two zones that are less than $\\epsilon$ apart must be in different portfolio categories to best minimize the risk to Travelers."
   ]
  },
  {
   "cell_type": "code",
   "execution_count": 10,
   "id": "4205a656",
   "metadata": {},
   "outputs": [],
   "source": [
    "def euclidean(p1, p2):\n",
    "    return math.sqrt((p1[0] - p2[0])**2 + (p1[1] - p2[1])**2)\n",
    "epsilon = 0.2"
   ]
  },
  {
   "cell_type": "markdown",
   "id": "96e0b516",
   "metadata": {},
   "source": [
    "We then create a dictionary-of-dictionary-of-dictionaries `distance_matrix`, where `distance_matrix[hazard_level][u][v]` represents the Euclidean distance of nodes `u` and `v` with hazard level `hazard_level` in the graph. This allows us to set up our three undirected graphs based on hazard level designation."
   ]
  },
  {
   "cell_type": "code",
   "execution_count": 11,
   "id": "8273e66e",
   "metadata": {},
   "outputs": [],
   "source": [
    "distance_matrix = {}\n",
    "for id1, attributes1 in sample.items():\n",
    "    hazard_level1 = attributes1[0]\n",
    "    coord1 = (attributes1[1], attributes1[2])\n",
    "    if hazard_level1 not in distance_matrix.keys():\n",
    "        distance_matrix[hazard_level1] = {}\n",
    "    distance_matrix[hazard_level1][id1] = {}\n",
    "    for id2, attributes2 in sample.items():\n",
    "        hazard_level2 = attributes2[0]\n",
    "        coord2 = (attributes2[1], attributes2[2])\n",
    "        if id1 != id2 and hazard_level1 == hazard_level2:\n",
    "            distance_matrix[hazard_level1][id1][id2] = euclidean(coord1, coord2)"
   ]
  },
  {
   "cell_type": "markdown",
   "id": "027b8b03",
   "metadata": {},
   "source": [
    "We then create our three graphs `moderateGraph`, `highGraph`, and `veryHighGraph` as dictionaries-of-dictionaries where `graph[u][v]` is $1$ if nodes `u` and `v` are closer than $\\epsilon$ and $0$ if they are farther."
   ]
  },
  {
   "cell_type": "code",
   "execution_count": 12,
   "id": "e250d75c",
   "metadata": {},
   "outputs": [],
   "source": [
    "moderateGraph = {}\n",
    "for id1 in distance_matrix[\"Moderate\"].keys():\n",
    "    for id2 in distance_matrix[\"Moderate\"][id1].keys():\n",
    "        dist = distance_matrix[\"Moderate\"][id1][id2]\n",
    "        if id1 not in moderateGraph.keys():\n",
    "                moderateGraph[id1] = {}\n",
    "        if dist < epsilon:\n",
    "            if id2 not in moderateGraph[id1].keys():\n",
    "                moderateGraph[id1][id2] = 1\n",
    "        \n",
    "highGraph = {}\n",
    "for id1 in distance_matrix[\"High\"].keys():\n",
    "    for id2 in distance_matrix[\"High\"][id1].keys():\n",
    "        dist = distance_matrix[\"High\"][id1][id2]\n",
    "        if id1 not in highGraph.keys():\n",
    "            highGraph[id1] = {}\n",
    "        if dist < epsilon:\n",
    "            if id2 not in highGraph[id1].keys():\n",
    "                highGraph[id1][id2] = 1\n",
    "\n",
    "veryHighGraph = {}\n",
    "for id1 in distance_matrix[\"Very High\"].keys():\n",
    "    for id2 in distance_matrix[\"Very High\"][id1].keys():\n",
    "        dist = distance_matrix[\"Very High\"][id1][id2]\n",
    "        if id1 not in veryHighGraph.keys():\n",
    "            veryHighGraph[id1] = {}\n",
    "        if dist < epsilon:\n",
    "            if id2 not in veryHighGraph[id1].keys():\n",
    "                veryHighGraph[id1][id2] = 1"
   ]
  },
  {
   "cell_type": "markdown",
   "id": "ff635355",
   "metadata": {},
   "source": [
    "To pass our graph into our quantum algorithm, we need a list of positive XY-coordinates which will be represented as a list of positions of Rydberg atoms in the lattice. For this example, we employ a simple random algorithm to find a set of working positions. It should be noted that these specific positions are arbitrary; the distance between two nodes just needs to be less than 7.5 (our blockade radius, as defined in [mis.ipynb](mis.ipynb)) if the graph coloring property should be respected between them and greater than 7.5 if not. All of these distances are in $\\text{μm}$ as they correspond to the positions of the Rydberg atoms in our lattice."
   ]
  },
  {
   "cell_type": "code",
   "execution_count": 7,
   "id": "25c3feb4",
   "metadata": {},
   "outputs": [],
   "source": [
    "def generate_positions(graph, bound=50, maxiters=1000):\n",
    "    positions = {}\n",
    "    placed_nodes = set()\n",
    "\n",
    "    first_node = list(graph.keys())[0]\n",
    "    positions[first_node] = (0, 0)\n",
    "    placed_nodes.add(first_node)\n",
    "\n",
    "    def find_position(node):\n",
    "        candidate_position = None\n",
    "        valid_position = False\n",
    "        for _ in range(maxiters):\n",
    "            x = random.uniform(-bound, bound)\n",
    "            y = random.uniform(-bound, bound)\n",
    "            candidate_position = (x, y)\n",
    "            valid_position = True\n",
    "            for neighbor in placed_nodes:\n",
    "                if neighbor in graph[node]:\n",
    "                    dist = euclidean(candidate_position, positions[neighbor])\n",
    "                    if dist > 7.5 or candidate_position in positions.values():\n",
    "                        valid_position = False\n",
    "                        break\n",
    "                else:\n",
    "                    dist = euclidean(candidate_position, positions[neighbor])\n",
    "                    if dist <= 7.5 or candidate_position in positions.values():\n",
    "                        valid_position = False\n",
    "                        break\n",
    "            if valid_position:\n",
    "                return candidate_position\n",
    "        if not valid_position:\n",
    "            raise ValueError('Could not find solution')\n",
    "\n",
    "    for node in graph:\n",
    "        if node not in placed_nodes:\n",
    "            new_position = find_position(node)\n",
    "            positions[node] = new_position\n",
    "            placed_nodes.add(node)\n",
    "\n",
    "    min_x = min(x for x, _ in positions.values())\n",
    "    min_y = min(y for _, y in positions.values())\n",
    "\n",
    "    if min_x < 0 or min_y < 0:\n",
    "        shift_x = abs(min_x) if min_x < 0 else 0\n",
    "        shift_y = abs(min_y) if min_y < 0 else 0\n",
    "        positions = {node: (x + shift_x, y + shift_y) for node, (x, y) in positions.items()}\n",
    "\n",
    "    return [(float(x),float(y)) for (x,y) in positions.values()]"
   ]
  },
  {
   "cell_type": "markdown",
   "id": "fd307a32",
   "metadata": {},
   "source": [
    "Finally, we generate the positions for the graph we would like to pass into our quantum algorithm; for the sake of example, we pass in `highGraph`. The list of positions is pickled and dumped into this directory, where it can be retrieved by our Julia program in [mis.ipynb](mis.ipynb) so the quantum algorithm can be executed."
   ]
  },
  {
   "cell_type": "code",
   "execution_count": 11,
   "id": "20da6b7b",
   "metadata": {},
   "outputs": [],
   "source": [
    "positions = generate_positions(highGraph)\n",
    "if os.path.exists(\"graph.pickle\"):\n",
    "    os.remove(\"graph.pickle\")\n",
    "with open(\"graph.pickle\", \"wb\") as file:\n",
    "    pickle.dump(positions, file)"
   ]
  },
  {
   "cell_type": "markdown",
   "id": "66258471",
   "metadata": {},
   "source": [
    "For comparison, we use a purely classical exponential-time graph coloring algorithm defined in the `gcol` library. We can compare the output of this graph to the output of our quantum algorithm in [output.pdf](output.pdf) and see that they match. More technical details about our quantum algorithm can be found in [mis.ipynb](mis.ipynb)."
   ]
  },
  {
   "cell_type": "code",
   "execution_count": 13,
   "id": "849c4378",
   "metadata": {},
   "outputs": [
    {
     "data": {
      "image/png": "[encoded data removed]",
      "text/plain": [
       "<Figure size 640x480 with 1 Axes>"
      ]
     },
     "metadata": {},
     "output_type": "display_data"
    }
   ],
   "source": [
    "HG = nx.Graph(highGraph)\n",
    "cHG = gcol.node_coloring(HG, opt_alg=1)\n",
    "\n",
    "plt.title(\"high\")\n",
    "nx.draw_networkx(HG,\n",
    "                 pos=nx.spring_layout(HG, seed=3),\n",
    "                 node_color=gcol.get_node_colors(HG, cHG, gcol.colorful),\n",
    "                 with_labels=False,\n",
    "                 node_size=80)\n",
    "plt.show()"
   ]
  },
  {
   "cell_type": "markdown",
   "id": "0adc987f",
   "metadata": {},
   "source": [
    "Of course, the classical algorithm above is too slow to be run in large, real-world applications like ones involving Travelers' portfolio. However, the quantum algorithm can be run for very large use cases given strong enough neutral-atom quantum hardware. [This paper](https://doi.org/10.1109/ECICE59523.2023.10383156) from 2023 shows that QuEra's Aquila can successfully find the MIS for at least eight qubits and less than fifty qubits. While we didn't have time to test our algorithm on the quantum hardware ourselves, as the hardware improves, our quantum approach will very likely become more viable for real-world use cases like the large datasets of Travelers customers.\n",
    "\n",
    "Our hope is that our preliminary research and results show that the quantum approach of using MIS to find graph coloring can potentially be used to help Travelers minimize risk and fulfill their company motto by being more able to respond to their customers when a catastrophe does strike. We sincerely thank Travelers and Capgemini for this challenge; we greatly enjoyed the opportunity to conduct some market research and try out and think about a quantum algorithm that can actually be used for the heavy datasets of the real-world!"
   ]
  }
 ],
 "metadata": {
  "kernelspec": {
   "display_name": "Python 3",
   "language": "python",
   "name": "python3"
  },
  "language_info": {
   "codemirror_mode": {
    "name": "ipython",
    "version": 3
   },
   "file_extension": ".py",
   "mimetype": "text/x-python",
   "name": "python",
   "nbconvert_exporter": "python",
   "pygments_lexer": "ipython3",
   "version": "3.13.2"
  }
 },
 "nbformat": 4,
 "nbformat_minor": 5
}
