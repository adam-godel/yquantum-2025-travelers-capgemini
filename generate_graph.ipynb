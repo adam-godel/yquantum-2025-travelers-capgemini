{
 "cells": [
  {
   "cell_type": "code",
   "execution_count": 1,
   "id": "1e740de4",
   "metadata": {},
   "outputs": [],
   "source": [
    "import math\n",
    "import networkx as nx\n",
    "import pickle\n",
    "import matplotlib.pyplot as plt\n",
    "import json\n",
    "import gcol\n",
    "import random\n",
    "import os"
   ]
  },
  {
   "cell_type": "code",
   "execution_count": 2,
   "id": "829fa440",
   "metadata": {},
   "outputs": [],
   "source": [
    "with open(\"LACountyFireHazardLevel.json\") as file:\n",
    "    full_data = json.load(file)\n",
    "\n",
    "centroids = {}\n",
    "\n",
    "for idx, feature in enumerate(full_data['features']):\n",
    "    attributes = feature.get('attributes', {})\n",
    "    geometry = feature.get('geometry', {})\n",
    "\n",
    "    if 'rings' in geometry and geometry['rings']:\n",
    "        points = geometry['rings'][0]\n",
    "        num_points = len(points)\n",
    "\n",
    "        avg_lon = sum(p[0] for p in points) / num_points\n",
    "        avg_lat = sum(p[1] for p in points) / num_points\n",
    "        hazard_level = attributes.get('HAZ_CLASS', 'Unknown')\n",
    "\n",
    "        centroids[idx] = (hazard_level, avg_lat, avg_lon)\n",
    "\n",
    "random.seed(3)\n",
    "indices = random.sample(sorted(centroids.keys()), 50)\n",
    "sample = {}\n",
    "for idx in indices:\n",
    "    sample[len(sample)+1] = centroids[idx]"
   ]
  },
  {
   "cell_type": "code",
   "execution_count": 3,
   "id": "4205a656",
   "metadata": {},
   "outputs": [],
   "source": [
    "def euclidean(p1, p2):\n",
    "    return math.sqrt((p1[0] - p2[0])**2 + (p1[1] - p2[1])**2)\n",
    "epsilon = 0.2"
   ]
  },
  {
   "cell_type": "code",
   "execution_count": 4,
   "id": "8273e66e",
   "metadata": {},
   "outputs": [],
   "source": [
    "distance_matrix = {}\n",
    "for id1, attributes1 in sample.items():\n",
    "    hazard_level1 = attributes1[0]\n",
    "    coord1 = (attributes1[1], attributes1[2])\n",
    "    if hazard_level1 not in distance_matrix.keys():\n",
    "        distance_matrix[hazard_level1] = {}\n",
    "    distance_matrix[hazard_level1][id1] = {}\n",
    "    for id2, attributes2 in sample.items():\n",
    "        hazard_level2 = attributes2[0]\n",
    "        coord2 = (attributes2[1], attributes2[2])\n",
    "        if id1 != id2 and hazard_level1 == hazard_level2:\n",
    "            distance_matrix[hazard_level1][id1][id2] = euclidean(coord1, coord2)"
   ]
  },
  {
   "cell_type": "code",
   "execution_count": 5,
   "id": "e250d75c",
   "metadata": {},
   "outputs": [],
   "source": [
    "moderateGraph = {}\n",
    "for id1 in distance_matrix[\"Moderate\"].keys():\n",
    "    for id2 in distance_matrix[\"Moderate\"][id1].keys():\n",
    "        dist = distance_matrix[\"Moderate\"][id1][id2]\n",
    "        if id1 not in moderateGraph.keys():\n",
    "                moderateGraph[id1] = {}\n",
    "        if dist < epsilon:\n",
    "            if id2 not in moderateGraph[id1].keys():\n",
    "                moderateGraph[id1][id2] = 1\n",
    "        \n",
    "highGraph = {}\n",
    "for id1 in distance_matrix[\"High\"].keys():\n",
    "    for id2 in distance_matrix[\"High\"][id1].keys():\n",
    "        dist = distance_matrix[\"High\"][id1][id2]\n",
    "        if id1 not in highGraph.keys():\n",
    "            highGraph[id1] = {}\n",
    "        if dist < epsilon:\n",
    "            if id2 not in highGraph[id1].keys():\n",
    "                highGraph[id1][id2] = 1\n",
    "\n",
    "veryHighGraph = {}\n",
    "for id1 in distance_matrix[\"Very High\"].keys():\n",
    "    for id2 in distance_matrix[\"Very High\"][id1].keys():\n",
    "        dist = distance_matrix[\"Very High\"][id1][id2]\n",
    "        if id1 not in veryHighGraph.keys():\n",
    "            veryHighGraph[id1] = {}\n",
    "        if dist < epsilon:\n",
    "            if id2 not in veryHighGraph[id1].keys():\n",
    "                veryHighGraph[id1][id2] = 1"
   ]
  },
  {
   "cell_type": "code",
   "execution_count": 24,
   "id": "25c3feb4",
   "metadata": {},
   "outputs": [],
   "source": [
    "def generate_positions(graph, maxiters=1000):\n",
    "    positions = {}\n",
    "    placed_nodes = set()\n",
    "\n",
    "    first_node = list(graph.keys())[0]\n",
    "    positions[first_node] = (0, 0)\n",
    "    placed_nodes.add(first_node)\n",
    "\n",
    "    def find_position(node):\n",
    "        candidate_position = None\n",
    "        valid_position = False\n",
    "        for _ in range(maxiters):\n",
    "            angle = random.randrange(360)\n",
    "            x = 7.5*math.cos(math.radians(angle))\n",
    "            y = 7.5*math.sin(math.radians(angle))\n",
    "            candidate_position = (x, y)\n",
    "            valid_position = True\n",
    "            for neighbor in placed_nodes:\n",
    "                if neighbor in graph[node]:\n",
    "                    dist = euclidean(candidate_position, positions[neighbor])\n",
    "                    if dist > 7.5 or candidate_position in positions.values():\n",
    "                        valid_position = False\n",
    "                        break\n",
    "                else:\n",
    "                    dist = euclidean(candidate_position, positions[neighbor])\n",
    "                    if dist <= 7.5 or candidate_position in positions.values():\n",
    "                        valid_position = False\n",
    "                        break\n",
    "            if valid_position:\n",
    "                return candidate_position\n",
    "        if not valid_position:\n",
    "            raise ValueError('Could not find solution')\n",
    "\n",
    "    for node in graph:\n",
    "        if node not in placed_nodes:\n",
    "            new_position = find_position(node)\n",
    "            positions[node] = new_position\n",
    "            placed_nodes.add(node)\n",
    "\n",
    "    min_x = min(x for x, _ in positions.values())\n",
    "    min_y = min(y for _, y in positions.values())\n",
    "\n",
    "    if min_x < 0 or min_y < 0:\n",
    "        shift_x = abs(min_x) if min_x < 0 else 0\n",
    "        shift_y = abs(min_y) if min_y < 0 else 0\n",
    "        positions = {node: (x + shift_x, y + shift_y) for node, (x, y) in positions.items()}\n",
    "\n",
    "    return [(float(x),float(y)) for (x,y) in positions.values()]"
   ]
  },
  {
   "cell_type": "code",
   "execution_count": 25,
   "id": "20da6b7b",
   "metadata": {},
   "outputs": [],
   "source": [
    "positions = generate_positions(highGraph)\n",
    "if os.path.exists(\"graph.pickle\"):\n",
    "    os.remove(\"graph.pickle\")\n",
    "with open(\"graph.pickle\", \"wb\") as file:\n",
    "    pickle.dump(positions, file)"
   ]
  },
  {
   "cell_type": "code",
   "execution_count": 26,
   "id": "849c4378",
   "metadata": {},
   "outputs": [
    {
     "data": {
      "image/png": "[encoded data removed]",
      "text/plain": [
       "<Figure size 640x480 with 1 Axes>"
      ]
     },
     "metadata": {},
     "output_type": "display_data"
    },
    {
     "data": {
      "image/png": "[encoded data removed]",
      "text/plain": [
       "<Figure size 640x480 with 1 Axes>"
      ]
     },
     "metadata": {},
     "output_type": "display_data"
    },
    {
     "data": {
      "image/png": "[encoded data removed]",
      "text/plain": [
       "<Figure size 640x480 with 1 Axes>"
      ]
     },
     "metadata": {},
     "output_type": "display_data"
    }
   ],
   "source": [
    "MG = nx.Graph(moderateGraph)\n",
    "HG = nx.Graph(highGraph)\n",
    "VHG = nx.Graph(veryHighGraph)\n",
    "cMG = gcol.node_coloring(MG, opt_alg=1)\n",
    "cHG = gcol.node_coloring(HG, opt_alg=1)\n",
    "cVHG = gcol.node_coloring(VHG, opt_alg=1)\n",
    "\n",
    "plt.figure(1)\n",
    "plt.title(\"moderate\")\n",
    "nx.draw_networkx(MG,\n",
    "                 pos=nx.spring_layout(MG, seed=3),\n",
    "                 node_color=gcol.get_node_colors(MG, cMG, gcol.colorful),\n",
    "                 with_labels=False,\n",
    "                 node_size=80)\n",
    "plt.figure(2)\n",
    "plt.title(\"high\")\n",
    "nx.draw_networkx(HG,\n",
    "                 pos=nx.spring_layout(HG, seed=3),\n",
    "                 node_color=gcol.get_node_colors(HG, cHG, gcol.colorful),\n",
    "                 with_labels=False,\n",
    "                 node_size=80)\n",
    "plt.figure(3)\n",
    "plt.title(\"very high\")\n",
    "nx.draw_networkx(VHG,\n",
    "                 pos=nx.spring_layout(VHG, seed=3),\n",
    "                 node_color=gcol.get_node_colors(VHG, cVHG, gcol.colorful),\n",
    "                 with_labels=False,\n",
    "                 node_size=80)\n",
    "plt.show()"
   ]
  }
 ],
 "metadata": {
  "kernelspec": {
   "display_name": "Python 3",
   "language": "python",
   "name": "python3"
  },
  "language_info": {
   "codemirror_mode": {
    "name": "ipython",
    "version": 3
   },
   "file_extension": ".py",
   "mimetype": "text/x-python",
   "name": "python",
   "nbconvert_exporter": "python",
   "pygments_lexer": "ipython3",
   "version": "3.13.2"
  }
 },
 "nbformat": 4,
 "nbformat_minor": 5
}
