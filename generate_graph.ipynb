{
 "cells": [
  {
   "cell_type": "code",
   "execution_count": 19,
   "id": "1e740de4",
   "metadata": {},
   "outputs": [],
   "source": [
    "import math\n",
    "import networkx as nx\n",
    "import numpy as np\n",
    "import pickle\n",
    "import matplotlib.pyplot as plt\n",
    "import random"
   ]
  },
  {
   "cell_type": "code",
   "execution_count": 32,
   "id": "3241734b",
   "metadata": {},
   "outputs": [],
   "source": [
    "def euclidean(p1, p2):\n",
    "    return math.sqrt((p1[0] - p2[0])**2 + (p1[1] - p2[1])**2)\n",
    "\n",
    "def generate_positions(graph, blockade=7.5):\n",
    "    positions = {}\n",
    "    placed_nodes = set()\n",
    "\n",
    "    first_node = list(graph.keys())[0]\n",
    "    positions[first_node] = (0, 0)\n",
    "    placed_nodes.add(first_node)\n",
    "\n",
    "    def find_position(node):\n",
    "        candidate_position = None\n",
    "        valid_position = False\n",
    "        while not valid_position:\n",
    "            angle = random.randrange(360)\n",
    "            x = blockade*math.cos(math.radians(angle))\n",
    "            y = blockade*math.sin(math.radians(angle))\n",
    "            candidate_position = (x, y)\n",
    "            valid_position = True\n",
    "            for neighbor in placed_nodes:\n",
    "                if neighbor in graph[node]:\n",
    "                    dist = euclidean(candidate_position, positions[neighbor])\n",
    "                    if dist > blockade or candidate_position in positions.values():\n",
    "                        valid_position = False\n",
    "                        break\n",
    "                else:\n",
    "                    dist = euclidean(candidate_position, positions[neighbor])\n",
    "                    if dist <= blockade or candidate_position in positions.values():\n",
    "                        valid_position = False\n",
    "                        break\n",
    "            if valid_position:\n",
    "                return candidate_position\n",
    "\n",
    "    for node in graph:\n",
    "        if node not in placed_nodes:\n",
    "            new_position = find_position(node)\n",
    "            positions[node] = new_position\n",
    "            placed_nodes.add(node)\n",
    "\n",
    "    min_x = min(x for x, _ in positions.values())\n",
    "    min_y = min(y for _, y in positions.values())\n",
    "\n",
    "    if min_x < 0 or min_y < 0:\n",
    "        shift_x = abs(min_x) if min_x < 0 else 0\n",
    "        shift_y = abs(min_y) if min_y < 0 else 0\n",
    "        positions = {node: (x + shift_x, y + shift_y) for node, (x, y) in positions.items()}\n",
    "\n",
    "    return [i for i in positions.values()]"
   ]
  },
  {
   "cell_type": "code",
   "execution_count": 33,
   "id": "e10d0570",
   "metadata": {},
   "outputs": [
    {
     "name": "stdout",
     "output_type": "stream",
     "text": [
      "[(0, 0), (3.6360721518475283, 6.559647803545468), (7.427010515561777, 1.0437982572004907), (4.408389392193548, 6.067627457812106)]\n"
     ]
    }
   ],
   "source": [
    "graph = {\n",
    "    'A': {'B': 1, 'C': 1},\n",
    "    'B': {'A': 1, 'C': 1, 'D': 1},\n",
    "    'C': {'A': 1, 'B': 1, 'D': 1},\n",
    "    'D': {'B': 1, 'C': 1, 'D': 1},\n",
    "}\n",
    "positions = generate_positions(graph)\n",
    "print(positions)\n",
    "with open(\"graph.pickle\", \"wb\") as file:\n",
    "    pickle.dump(positions, file)"
   ]
  }
 ],
 "metadata": {
  "kernelspec": {
   "display_name": "base",
   "language": "python",
   "name": "python3"
  },
  "language_info": {
   "codemirror_mode": {
    "name": "ipython",
    "version": 3
   },
   "file_extension": ".py",
   "mimetype": "text/x-python",
   "name": "python",
   "nbconvert_exporter": "python",
   "pygments_lexer": "ipython3",
   "version": "3.12.9"
  }
 },
 "nbformat": 4,
 "nbformat_minor": 5
}
