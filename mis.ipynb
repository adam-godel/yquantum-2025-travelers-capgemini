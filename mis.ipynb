{
 "cells": [
  {
   "cell_type": "code",
   "execution_count": 1,
   "id": "d2b49150",
   "metadata": {},
   "outputs": [],
   "source": [
    "using Graphs\n",
    "using Bloqade\n",
    "using Random\n",
    "using GenericTensorNetworks\n",
    "using Optim\n",
    "using Bloqade.CairoMakie"
   ]
  },
  {
   "cell_type": "code",
   "execution_count": 2,
   "id": "f9d3de94",
   "metadata": {},
   "outputs": [
    {
     "data": {
      "text/plain": [
       "MIS_QAA (generic function with 1 method)"
      ]
     },
     "execution_count": 2,
     "metadata": {},
     "output_type": "execute_result"
    }
   ],
   "source": [
    "function MIS_QAA(graph)\n",
    "    T_max = 0.6\n",
    "    Ω_max = 2π * 4\n",
    "    Ω = piecewise_linear(clocks = [0.0, 0.1, 0.5, T_max], values = [0.0, Ω_max, Ω_max, 0])\n",
    "    Δ_start = -2π * 13\n",
    "    Δ_end = 2π * 11\n",
    "    Δ = piecewise_linear(clocks = [0.0, 0.1, 0.5, T_max], values = [Δ_start, Δ_start, Δ_end, Δ_end])\n",
    "    hamiltonian = rydberg_h(atoms; Ω = Ω, Δ = Δ)\n",
    "    prob = SchrodingerProblem(zero_state(nqubits(hamiltonian)), T_max, hamiltonian)\n",
    "    emulate!(prob)\n",
    "    best_bit_strings = most_probable(prob.reg, 3)\n",
    "    return [mis_postprocessing(val, graph) for val in best_bit_strings]\n",
    "end"
   ]
  },
  {
   "cell_type": "code",
   "execution_count": 3,
   "id": "24ac117a",
   "metadata": {},
   "outputs": [
    {
     "data": {
      "text/plain": [
       "coloring (generic function with 1 method)"
      ]
     },
     "execution_count": 3,
     "metadata": {},
     "output_type": "execute_result"
    }
   ],
   "source": [
    "function coloring(atoms, find_colors, color, result, minres)\n",
    "    if size(find_colors,1) == 0\n",
    "        return result\n",
    "    end\n",
    "    graph = BloqadeMIS.unit_disk_graph(find_colors, 7.5)\n",
    "    res = MIS_QAA(graph)\n",
    "    for bitstring in res\n",
    "        to_delete = []\n",
    "        for (i, b) in enumerate(bitstring)\n",
    "            if b\n",
    "                idx = findfirst(elem -> elem == find_colors[i], atoms)\n",
    "                push!(to_delete, atoms[idx])\n",
    "                result[atoms[idx]] = color\n",
    "            end\n",
    "        end\n",
    "        optres = coloring(atoms, [elem for (i, elem) in enumerate(find_colors) if !(elem in to_delete)], color+1, result, minres)\n",
    "        if isempty(minres) || findmax(optres)[1] < findmax(minres)[1]\n",
    "            minres = copy(optres)\n",
    "        end\n",
    "    end\n",
    "    return minres\n",
    "end"
   ]
  },
  {
   "cell_type": "code",
   "execution_count": null,
   "id": "91a97169",
   "metadata": {},
   "outputs": [
    {
     "ename": "LoadError",
     "evalue": "MethodError: no method matching AtomList()\nThe type `AtomList` exists, but no method is defined for this combination of argument types when trying to construct it.\n\n\u001b[0mClosest candidates are:\n\u001b[0m  AtomList(\u001b[91m::Array{NTuple{D, T}, 1}\u001b[39m) where {D, T}\n\u001b[0m\u001b[90m   @\u001b[39m \u001b[35mBloqadeLattices\u001b[39m \u001b[90mC:\\Users\\ahard\\.julia\\packages\\BloqadeLattices\\S1jfb\\src\\\u001b[39m\u001b[90m\u001b[4mlattice.jl:430\u001b[24m\u001b[39m\n",
     "output_type": "error",
     "traceback": [
      "MethodError: no method matching AtomList()\nThe type `AtomList` exists, but no method is defined for this combination of argument types when trying to construct it.\n\n\u001b[0mClosest candidates are:\n\u001b[0m  AtomList(\u001b[91m::Array{NTuple{D, T}, 1}\u001b[39m) where {D, T}\n\u001b[0m\u001b[90m   @\u001b[39m \u001b[35mBloqadeLattices\u001b[39m \u001b[90mC:\\Users\\ahard\\.julia\\packages\\BloqadeLattices\\S1jfb\\src\\\u001b[39m\u001b[90m\u001b[4mlattice.jl:430\u001b[24m\u001b[39m\n",
      "",
      "Stacktrace:",
      " [1] top-level scope",
      "   @ In[5]:2"
     ]
    }
   ],
   "source": [
    "Random.seed!(4)\n",
    "atoms = generate_sites(HoneycombLattice(), 4, 4; scale = 4.5) |> random_dropout(0.4)\n",
    "output = coloring(atoms, copy(atoms), 1, Dict(), Dict())\n",
    "colors = Dict(1 => \"red\", 2 => \"green\", 3 => \"blue\", 4 => \"yellow\", 5 => \"purple\")\n",
    "Bloqade.plot(atoms, blockade_radius = 7.5; colors = [colors[output[elem]] for elem in atoms])"
   ]
  }
 ],
 "metadata": {
  "kernelspec": {
   "display_name": "Julia 1.11.4",
   "language": "julia",
   "name": "julia-1.11"
  },
  "language_info": {
   "file_extension": ".jl",
   "mimetype": "application/julia",
   "name": "julia",
   "version": "1.11.4"
  }
 },
 "nbformat": 4,
 "nbformat_minor": 5
}
