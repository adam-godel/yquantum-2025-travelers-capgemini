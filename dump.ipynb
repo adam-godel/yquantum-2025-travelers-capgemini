{
 "cells": [
  {
   "cell_type": "code",
   "execution_count": 1,
   "id": "a060b9e0",
   "metadata": {},
   "outputs": [],
   "source": [
    "from bloqade.analog import start, get_capabilities, piecewise_linear\n",
    "import math\n",
    "import networkx as nx\n",
    "import numpy as np\n",
    "from scipy.spatial.distance import pdist, squareform\n",
    "import pickle\n",
    "import matplotlib.pyplot as plt"
   ]
  },
  {
   "cell_type": "code",
   "execution_count": 2,
   "id": "e2d10342",
   "metadata": {},
   "outputs": [],
   "source": [
    "def MIS(graph):\n",
    "    aquila_capabilities = get_capabilities()\n",
    "    C6 = float(aquila_capabilities.capabilities.rydberg.c6_coefficient)\n",
    "    Omega_max = float(aquila_capabilities.capabilities.rydberg.global_.rabi_frequency_max)\n",
    "\n",
    "    Rba = np.sqrt(2*np.sqrt(2))\n",
    "    Rb = Rba*4.5\n",
    "    Delta_end = (C6)/Rb**6\n",
    "\n",
    "    T_max = 4\n",
    "    sweep_time = 0.8*T_max\n",
    "    ramp_time = 0.1*T_max\n",
    "\n",
    "    rabi_amplitude_values = [0.0, Omega_max, Omega_max, 0.0]\n",
    "    detuning_values = [-Delta_end, -Delta_end, Delta_end, Delta_end]\n",
    "    durations = [ramp_time, sweep_time, ramp_time]\n",
    "\n",
    "    RabiProtocol = piecewise_linear(durations,rabi_amplitude_values)\n",
    "    DeltaProtocol = piecewise_linear(durations,detuning_values)\n",
    "\n",
    "    mis_udg_program=(\n",
    "        graph.rydberg.rabi.amplitude.uniform.apply(RabiProtocol)\n",
    "        .detuning.uniform.apply(DeltaProtocol)\n",
    "    )\n",
    "    result = mis_udg_program.bloqade.python().run(100,interaction_picture=True)\n",
    "    report = result.report()\n",
    "    val = report.bitstrings()[0].tolist()\n",
    "    return set(tuple(i) for i in val)"
   ]
  },
  {
   "cell_type": "code",
   "execution_count": 3,
   "id": "bbc1799c",
   "metadata": {},
   "outputs": [],
   "source": [
    "def coloring(atoms, find_colors, color, result, minres):\n",
    "    if len(find_colors) == 0:\n",
    "        return result\n",
    "    graph = start.add_position(find_colors)\n",
    "    res = MIS(graph)\n",
    "    for bitstring in res:\n",
    "        to_delete = []\n",
    "        for (i, b) in enumerate(bitstring):\n",
    "            if b:\n",
    "                idx = atoms.index(find_colors[i])\n",
    "                to_delete.append(atoms[idx])\n",
    "                result[atoms[idx]] = color\n",
    "        optres = coloring(atoms, [elem for (i, elem) in enumerate(find_colors) if elem not in to_delete], color+1, result, minres)\n",
    "        if len(minres) == 0 or max(optres.values()) < max(minres.values()):\n",
    "            minres = optres.copy()\n",
    "    return minres"
   ]
  }
 ],
 "metadata": {
  "kernelspec": {
   "display_name": "base",
   "language": "python",
   "name": "python3"
  },
  "language_info": {
   "codemirror_mode": {
    "name": "ipython",
    "version": 3
   },
   "file_extension": ".py",
   "mimetype": "text/x-python",
   "name": "python",
   "nbconvert_exporter": "python",
   "pygments_lexer": "ipython3",
   "version": "3.12.9"
  }
 },
 "nbformat": 4,
 "nbformat_minor": 5
}
